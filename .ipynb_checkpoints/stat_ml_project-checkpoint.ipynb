{
 "cells": [
  {
   "cell_type": "code",
   "execution_count": 17,
   "id": "faf6fda2",
   "metadata": {},
   "outputs": [
    {
     "name": "stdout",
     "output_type": "stream",
     "text": [
      "The folder you are executing pip from can no longer be found.\r\n"
     ]
    }
   ],
   "source": [
    "!pip install librosa"
   ]
  },
  {
   "cell_type": "code",
   "execution_count": 18,
   "id": "70747dde",
   "metadata": {},
   "outputs": [],
   "source": [
    "import os\n",
    "import librosa\n",
    "import numpy as np\n",
    "from sklearn.model_selection import train_test_split\n",
    "from sklearn.preprocessing import LabelEncoder, StandardScaler\n",
    "from sklearn.ensemble import RandomForestClassifier\n",
    "from sklearn.metrics import accuracy_score"
   ]
  },
  {
   "cell_type": "code",
   "execution_count": 19,
   "id": "be7ac3a6",
   "metadata": {},
   "outputs": [
    {
     "ename": "FileNotFoundError",
     "evalue": "[Errno 2] No such file or directory: 'genres'",
     "output_type": "error",
     "traceback": [
      "\u001b[0;31m---------------------------------------------------------------------------\u001b[0m",
      "\u001b[0;31mFileNotFoundError\u001b[0m                         Traceback (most recent call last)",
      "Cell \u001b[0;32mIn[19], line 2\u001b[0m\n\u001b[1;32m      1\u001b[0m pathToAllFiles \u001b[38;5;241m=\u001b[39m \u001b[38;5;124m'\u001b[39m\u001b[38;5;124mgenres\u001b[39m\u001b[38;5;124m'\u001b[39m\n\u001b[0;32m----> 2\u001b[0m allGenres \u001b[38;5;241m=\u001b[39m os\u001b[38;5;241m.\u001b[39mlistdir(pathToAllFiles)\n\u001b[1;32m      3\u001b[0m \u001b[38;5;66;03m#print(allGenres)\u001b[39;00m\n\u001b[1;32m      5\u001b[0m allFeatures \u001b[38;5;241m=\u001b[39m []\n",
      "\u001b[0;31mFileNotFoundError\u001b[0m: [Errno 2] No such file or directory: 'genres'"
     ]
    }
   ],
   "source": [
    "pathToAllFiles = 'genres'\n",
    "allGenres = os.listdir(pathToAllFiles)\n",
    "#print(allGenres)\n",
    "\n",
    "allFeatures = []\n",
    "labels = []\n",
    "for genre in allGenres:\n",
    "    pathToGenreFiles = os.path.join(pathToAllFiles, genre)\n",
    "    #print(pathToGenreFiles)\n",
    "    for file in os.listdir(pathToGenreFiles):\n",
    "        #print(file)\n",
    "        pathToFile = os.path.join(pathToGenreFiles, file)\n",
    "        #print(pathToFile)\n",
    "        \n",
    "        \n",
    "        try:\n",
    "            audio, sr = librosa.load(file_path, res_type='kaiser_fast')\n",
    "            chroma = librosa.feature.chroma_stft(y=audio, sr=sr)\n",
    "            chroma_mean = np.mean(chroma, axis=1)\n",
    "            \n",
    "            tonnetz = librosa.feature.tonnetz(y=librosa.effects.harmonic(audio), sr=sr)\n",
    "            tonnetz_mean = np.mean(tonnetz, axis=1)\n",
    "            \n",
    "            allFeatures.append(np.hstack((chroma_mean.reshape(-1, 1), tonnetz_mean.reshape(-1, 1))))\n",
    "            labels.append(genre)\n",
    "\n",
    "\n",
    "        except Exception as e:\n",
    "            continue \n",
    "        \n",
    "print(np.vstack(allFeatures))     "
   ]
  },
  {
   "cell_type": "code",
   "execution_count": null,
   "id": "db949836",
   "metadata": {},
   "outputs": [],
   "source": []
  }
 ],
 "metadata": {
  "kernelspec": {
   "display_name": "Python 3 (ipykernel)",
   "language": "python",
   "name": "python3"
  },
  "language_info": {
   "codemirror_mode": {
    "name": "ipython",
    "version": 3
   },
   "file_extension": ".py",
   "mimetype": "text/x-python",
   "name": "python",
   "nbconvert_exporter": "python",
   "pygments_lexer": "ipython3",
   "version": "3.11.5"
  }
 },
 "nbformat": 4,
 "nbformat_minor": 5
}
