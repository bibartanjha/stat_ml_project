{
 "cells": [
  {
   "cell_type": "code",
   "execution_count": 1,
   "id": "c030385a",
   "metadata": {},
   "outputs": [],
   "source": [
    "import pandas as pd\n",
    "import numpy as np\n",
    "from sklearn.preprocessing import StandardScaler\n",
    "from sklearn.decomposition import PCA\n",
    "from sklearn.neighbors import KNeighborsClassifier\n",
    "from sklearn.model_selection import train_test_split\n",
    "import matplotlib.pyplot as plt\n",
    "from sklearn.ensemble import RandomForestClassifier\n",
    "from sklearn.metrics import classification_report\n",
    "import seaborn as sns"
   ]
  },
  {
   "cell_type": "code",
   "execution_count": 2,
   "id": "098c7191",
   "metadata": {},
   "outputs": [],
   "source": [
    "dataOrig = pd.read_csv(\"dataOrigFromLibrosa/dataOrig.csv\",usecols=lambda column: column != 'filename')"
   ]
  },
  {
   "cell_type": "code",
   "execution_count": 4,
   "id": "8677f546",
   "metadata": {},
   "outputs": [],
   "source": [
    "dataHarmonic = pd.read_csv(\"dataUsingLibrosaHarmonic/dataForHarmonicAudio.csv\",usecols=lambda column: column != 'filename')"
   ]
  },
  {
   "cell_type": "code",
   "execution_count": 9,
   "id": "0882278c",
   "metadata": {},
   "outputs": [
    {
     "name": "stdout",
     "output_type": "stream",
     "text": [
      "['chroma_B', 'chroma_E', 'chroma_allPitches', 'genre', 'chroma_F', 'chroma_Asharp', 'chroma_Dsharp', 'chroma_Fsharp', 'chroma_Gsharp', 'chroma_C', 'chroma_G', 'chroma_D', 'chroma_A', 'chroma_Csharp']\n",
      "['mfcc2', 'spectral_rolloff', 'mfcc5', 'mfcc6', 'mfcc9', 'tonnetz_dim4', 'mfcc15', 'mfcc11', 'mfcc19', 'mfcc10', 'tonnetz_dim2', 'mfcc7', 'mfcc17', 'mfcc12', 'mfcc4', 'tonnetz_dim1', 'mfcc13', 'tonnetz_dim6', 'mfcc1', 'tonnetz_dim5', 'tonnetz_allDims', 'mfcc18', 'spectral_bandwidth', 'mfcc3', 'tonnetz_dim3', 'mfcc14', 'mfcc16', 'mfcc20', 'rmse', 'spectral_centroid', 'mfcc8']\n"
     ]
    }
   ],
   "source": [
    "def compare_columns(df1, df2):\n",
    "    # Get the column names from each DataFrame\n",
    "    columns1 = df1.columns\n",
    "    columns2 = df2.columns\n",
    "\n",
    "    # Compare the columns\n",
    "    common_columns = set(columns1) & set(columns2)\n",
    "    different_columns = set(columns1) ^ set(columns2)\n",
    "    \n",
    "    equivalent = []\n",
    "    different = []\n",
    "    \n",
    "    if common_columns:\n",
    "        #print(\"Common columns:\")\n",
    "        for column in common_columns:\n",
    "            if (df1[column] == df2[column]).all():\n",
    "                #print(f\"{column}: Equivalent\")\n",
    "                equivalent.append(column)\n",
    "            else:\n",
    "                #print(f\"{column}: Different\")\n",
    "                different.append(column)\n",
    "    else:\n",
    "        print(\"No common columns.\")\n",
    "\n",
    "    '''\n",
    "    if different_columns:\n",
    "        print(\"\\nColumns present in one CSV but not in the other:\")\n",
    "        for column in different_columns:\n",
    "            if column in columns1:\n",
    "                print(f\"In {csv_file1}: {column}\")\n",
    "            else:\n",
    "                print(f\"In {csv_file2}: {column}\")\n",
    "    '''\n",
    "    print(equivalent)\n",
    "    print(different)\n",
    "\n",
    "# Example usage\n",
    "compare_columns(dataOrig, dataHarmonic)"
   ]
  },
  {
   "cell_type": "code",
   "execution_count": null,
   "id": "2d1ab303",
   "metadata": {},
   "outputs": [],
   "source": []
  }
 ],
 "metadata": {
  "kernelspec": {
   "display_name": "Python 3 (ipykernel)",
   "language": "python",
   "name": "python3"
  },
  "language_info": {
   "codemirror_mode": {
    "name": "ipython",
    "version": 3
   },
   "file_extension": ".py",
   "mimetype": "text/x-python",
   "name": "python",
   "nbconvert_exporter": "python",
   "pygments_lexer": "ipython3",
   "version": "3.11.5"
  }
 },
 "nbformat": 4,
 "nbformat_minor": 5
}
